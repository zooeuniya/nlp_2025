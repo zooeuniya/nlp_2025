{
  "nbformat": 4,
  "nbformat_minor": 0,
  "metadata": {
    "colab": {
      "provenance": [],
      "include_colab_link": true
    },
    "kernelspec": {
      "name": "python3",
      "display_name": "Python 3"
    },
    "language_info": {
      "name": "python"
    }
  },
  "cells": [
    {
      "cell_type": "markdown",
      "metadata": {
        "id": "view-in-github",
        "colab_type": "text"
      },
      "source": [
        "<a href=\"https://colab.research.google.com/github/zooeuniya/nlp_2025/blob/main/0_markdown4readme_md.ipynb\" target=\"_parent\"><img src=\"https://colab.research.google.com/assets/colab-badge.svg\" alt=\"Open In Colab\"/></a>"
      ]
    },
    {
      "cell_type": "markdown",
      "source": [
        "# ✂️✏️📌 **How to Use <font color = 'red'> Markdown Language**\n",
        "* ## For <font color = 'orange'> more syntax</font> of markdown langauge, [Click here.](https://www.markdownguide.org/basic-syntax/)\n"
      ],
      "metadata": {
        "id": "nFyrb7heQOTL"
      }
    },
    {
      "cell_type": "markdown",
      "source": [
        "# 애국가 1절\n",
        "* <font color = blue>동해물🌊</font>과 <font color = green>백두산🌄</font>이\n",
        "* 마르고 닳도록\n",
        "* 하느님이 보우하사 우리나라 만세\n",
        "* 무궁화 삼천리 화려강산\n",
        "* 대한사람 대한으로 길이 보전하세\n",
        "\n",
        "[더보기](https://www.mois.go.kr/chd/sub/a05/story/screen.do)"
      ],
      "metadata": {
        "id": "Gv-hojURgZjC"
      }
    },
    {
      "cell_type": "markdown",
      "source": [
        "# NLP_2025\n",
        "\n",
        "# 🐹🍦 **Python Language**\n",
        "\n",
        "## **Learning Python** using **Colab** ([Visit Colab homepage](https://colab.research.google.com/?utm_source=scs-index)) and **Github** ([Visit Github homepage](https://github.com/))\n",
        "\n",
        "\n",
        "### **1. Sign up github** ([Visit a tutorial on Youtube](https://www.youtube.com/watch?v=c-NikCpec7U))\n",
        "    You can also sign up using your Google account.\n",
        "\n",
        "### **2. Sign up Google Colaboratory** (aka. Colab) ([Visit a tutorial on Youtube](https://www.youtube.com/watch?v=2X_EU18OeYM))\n",
        "    You should log in Google (e.g., gmail) so that you can transfer your python file(e.g., .ipynb)\n",
        "\n",
        "\n",
        "### **3. Useful References**\n",
        "- Main textbook for your assignment: <font color = 'purple'> _**Exercises 200 파이썬200제**_</font> by 장삼용. 정보문화사 2025\n",
        "- [Jump to Python](https://wikidocs.net/book/1)\n",
        "- [wikidocs for nltk](https://wikidocs.net/21667)\n",
        "\n",
        "### **4. Useful pages For Editing text using Markdown Language**\n",
        "* [Emoji](https://gist.github.com/rxaviers/7360908)\n",
        "* [Markdown syntax](https://www.markdownguide.org/basic-syntax/)\n",
        "\n",
        "### **5. Class Materials**\n",
        "| # | Sessions | Keywords |\n",
        "|:--:|:--:|:--:|\n",
        "| 1 | Markdown Language 👪  | [syntax](https://github.com/ms624atyale/NLP_2024/blob/main/0_MarkDown4README_md.ipynb)|  \n",
        "| 2 | Code Cells 🐾 | [variable, assign](https://github.com/ms624atyale/NLP_2024/blob/main/1_CodeCells_Basic.ipynb)|  \n",
        "| 3 | Five Types of Data 📋 | [number, string, list, tuple, dictionary](https://github.com/ms624atyale/NLP_2023/blob/main/2_FiveTypesofData.ipynb)|  "
      ],
      "metadata": {
        "id": "OtctgkT2NOCS"
      }
    }
  ]
}